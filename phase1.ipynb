{
 "metadata": {
  "language_info": {
   "codemirror_mode": {
    "name": "ipython",
    "version": 3
   },
   "file_extension": ".py",
   "mimetype": "text/x-python",
   "name": "python",
   "nbconvert_exporter": "python",
   "pygments_lexer": "ipython3",
   "version": "3.7.4"
  },
  "orig_nbformat": 2,
  "kernelspec": {
   "name": "python374jvsc74a57bd08e61c9422603e3d3820d3aeca1b8eefe471d1a1023a28a3903412dc32402bf43",
   "display_name": "Python 3.7.4 32-bit"
  },
  "metadata": {
   "interpreter": {
    "hash": "8e61c9422603e3d3820d3aeca1b8eefe471d1a1023a28a3903412dc32402bf43"
   }
  }
 },
 "nbformat": 4,
 "nbformat_minor": 2,
 "cells": [
  {
   "source": [
    "## EEE485 - Project Phase I"
   ],
   "cell_type": "markdown",
   "metadata": {}
  },
  {
   "source": [
    "### Imports"
   ],
   "cell_type": "markdown",
   "metadata": {}
  },
  {
   "source": [
    "import csv\n",
    "import matplotlib.pyplot as plt\n",
    "import seaborn as sns\n",
    "import pandas as pd\n",
    "import numpy as np\n",
    "import numpy.linalg as LA\n",
    "import smote\n",
    "import random\n",
    "import kNN\n",
    "import fcn"
   ],
   "cell_type": "code",
   "metadata": {},
   "execution_count": null,
   "outputs": []
  },
  {
   "source": [
    "### Load Data"
   ],
   "cell_type": "markdown",
   "metadata": {}
  },
  {
   "cell_type": "code",
   "execution_count": null,
   "metadata": {},
   "outputs": [],
   "source": [
    "raw_data = pd.read_csv(\"data.csv\")\n",
    "bankrupt_pd = raw_data[\"Bankrupt?\"]\n",
    "features_pd = raw_data.drop([\"Bankrupt?\"], axis=1)\n",
    "raw_data"
   ]
  },
  {
   "source": [
    "### Check for NAN and Duplicate Values\n"
   ],
   "cell_type": "markdown",
   "metadata": {}
  },
  {
   "cell_type": "code",
   "execution_count": null,
   "metadata": {},
   "outputs": [],
   "source": [
    "print(\"NAN values:\", [col for col in features_pd if features_pd[col].isna().sum() > 0])\n",
    "print(\"Duplicates:\", features_pd.duplicated().sum())"
   ]
  },
  {
   "source": [
    "We now know that we do not have any missing or duplicate data"
   ],
   "cell_type": "markdown",
   "metadata": {}
  },
  {
   "source": [
    "### Evaluate Data Imbalance"
   ],
   "cell_type": "markdown",
   "metadata": {}
  },
  {
   "cell_type": "code",
   "execution_count": null,
   "metadata": {},
   "outputs": [],
   "source": [
    "unstable_initial = (raw_data[\"Bankrupt?\"] == 1).sum()\n",
    "stable_initial = (raw_data[\"Bankrupt?\"] == 0).sum()\n",
    "print(\"Data Size:\", raw_data.shape[0])\n",
    "print(\"# of stable companies:\", stable_initial )\n",
    "print(\"# of unstable companies:\", unstable_initial )\n",
    "print(\"Unstable to Stable Ratio: \", unstable_initial/stable_initial)"
   ]
  },
  {
   "source": [
    "### PLOTS"
   ],
   "cell_type": "markdown",
   "metadata": {}
  },
  {
   "cell_type": "code",
   "execution_count": null,
   "metadata": {},
   "outputs": [],
   "source": [
    "raw_data.hist(figsize = (50,40), bins = 50)\n",
    "plt.show()"
   ]
  },
  {
   "cell_type": "code",
   "execution_count": null,
   "metadata": {},
   "outputs": [],
   "source": [
    "f, axes = plt.subplots(ncols=4, figsize = (24,6) )\n",
    "\n",
    "sns.boxplot(x=\"Bankrupt?\", y=\" Cash/Total Assets\", data=raw_data, ax = axes[0] )\n",
    "axes[0].set_title(\"Bankrupt vs Cash/Total Assets\")\n",
    "\n",
    "sns.boxplot(x=\"Bankrupt?\", y=\" Current Assets/Total Assets\", data=raw_data, ax = axes[1] )\n",
    "axes[1].set_title(\"Bankrupt vs Current Assets/Total Assets\")\n",
    "\n",
    "sns.boxplot(x=\"Bankrupt?\", y=\" Net worth/Assets\", data=raw_data, ax = axes[2] )\n",
    "axes[2].set_title(\"Bankrupt vs Net worth/Assets\")\n",
    "\n",
    "sns.boxplot(x=\"Bankrupt?\", y=\" Cash/Current Liability\", data=raw_data, ax = axes[3] )\n",
    "axes[3].set_title(\"Bankrupt vs Cash/Current Liability\")\n",
    "\n",
    "plt.show()"
   ]
  },
  {
   "source": [
    "### Outlier Removal Using IQR"
   ],
   "cell_type": "markdown",
   "metadata": {}
  },
  {
   "cell_type": "code",
   "execution_count": 4,
   "metadata": {},
   "outputs": [],
   "source": [
    "clean_data = raw_data.copy(deep=True)\n",
    "for col in features_pd:\n",
    "    clean_data = fcn.remove_outlier(raw_data[col], str(col), raw_data)\n",
    "clean_data = clean_data.reset_index(drop=True)"
   ]
  },
  {
   "source": [
    "### Plots with Outliers Removed"
   ],
   "cell_type": "markdown",
   "metadata": {}
  },
  {
   "cell_type": "code",
   "execution_count": null,
   "metadata": {},
   "outputs": [],
   "source": [
    "clean_data.hist(figsize = (50,40), bins = 50)\n",
    "plt.show()"
   ]
  },
  {
   "cell_type": "code",
   "execution_count": null,
   "metadata": {},
   "outputs": [],
   "source": [
    "f, axes = plt.subplots(ncols=4, figsize = (24,6) )\n",
    "\n",
    "sns.boxplot(x=\"Bankrupt?\", y=\" Cash/Total Assets\", data=clean_data, ax = axes[0] )\n",
    "axes[0].set_title(\"Bankrupt vs Cash/Total Assets\")\n",
    "\n",
    "sns.boxplot(x=\"Bankrupt?\", y=\" Current Assets/Total Assets\", data=clean_data, ax = axes[1] )\n",
    "axes[1].set_title(\"Bankrupt vs Current Assets/Total Assets\")\n",
    "\n",
    "sns.boxplot(x=\"Bankrupt?\", y=\" Net worth/Assets\", data=clean_data, ax = axes[2] )\n",
    "axes[2].set_title(\"Bankrupt vs Net worth/Assets\")\n",
    "\n",
    "sns.boxplot(x=\"Bankrupt?\", y=\" Cash/Current Liability\", data=clean_data, ax = axes[3] )\n",
    "axes[3].set_title(\"Bankrupt vs Cash/Current Liability\")\n",
    "\n",
    "plt.show()"
   ]
  },
  {
   "source": [
    "### SMOTE"
   ],
   "cell_type": "markdown",
   "metadata": {}
  },
  {
   "cell_type": "code",
   "execution_count": 16,
   "metadata": {},
   "outputs": [],
   "source": [
    "minority = clean_data[clean_data[\"Bankrupt?\"] == 1] # Extract minority samoles from data\n",
    "smt = smote.Smote( minority.to_numpy() ) # Initialize the SMOTE class\n",
    "oversamples = smt.oversample(N=2600) # Employ SMOTE oversampling\n"
   ]
  },
  {
   "cell_type": "code",
   "execution_count": 6,
   "metadata": {},
   "outputs": [],
   "source": [
    "smote_data = clean_data.copy(deep=True) # Cleared from outliers and oversampled\n",
    "oversamples_pd = pd.DataFrame(oversamples, columns = clean_data.columns)\n",
    "smote_data = smote_data.append(oversamples_pd)\n",
    "smote_data = smote_data.reset_index(drop=True)"
   ]
  },
  {
   "cell_type": "code",
   "execution_count": 18,
   "metadata": {},
   "outputs": [
    {
     "output_type": "stream",
     "name": "stdout",
     "text": [
      "Oversampled Data Size: 11626\nNumber of Stable Companies: 6052\nNumber of Unstable Companies (with SMOTE): 5574\nunstable to Stable Ratio: 0.9210178453403833\n"
     ]
    }
   ],
   "source": [
    "unstable_smote = (smote_data[\"Bankrupt?\"] == 1).sum()\n",
    "stable_smote = (smote_data[\"Bankrupt?\"] == 0).sum()\n",
    "print(\"Oversampled Data Size:\", smote_data.shape[0])\n",
    "print(\"Number of Stable Companies:\", stable_smote)\n",
    "print(\"Number of Unstable Companies (with SMOTE):\", unstable_smote)\n",
    "print(\"unstable to Stable Ratio: \", unstable_smote/stable_smote, sep=\"\")"
   ]
  },
  {
   "cell_type": "code",
   "execution_count": null,
   "metadata": {},
   "outputs": [],
   "source": [
    "smote_data[\"Bankrupt?\"].hist()\n",
    "plt.show()"
   ]
  },
  {
   "cell_type": "code",
   "execution_count": null,
   "metadata": {},
   "outputs": [],
   "source": [
    "f, axes = plt.subplots(ncols=4, figsize = (24,6) )\n",
    "\n",
    "sns.boxplot(x=\"Bankrupt?\", y=\" Cash/Total Assets\", data=smote_data, ax = axes[0] )\n",
    "axes[0].set_title(\"Bankrupt vs Cash/Total Assets\")\n",
    "\n",
    "sns.boxplot(x=\"Bankrupt?\", y=\" Current Assets/Total Assets\", data=smote_data, ax = axes[1] )\n",
    "axes[1].set_title(\"Bankrupt vs Current Assets/Total Assets\")\n",
    "\n",
    "sns.boxplot(x=\"Bankrupt?\", y=\" Net worth/Assets\", data=smote_data, ax = axes[2] )\n",
    "axes[2].set_title(\"Bankrupt vs Net worth/Assets\")\n",
    "\n",
    "sns.boxplot(x=\"Bankrupt?\", y=\" Cash/Current Liability\", data=smote_data, ax = axes[3] )\n",
    "axes[3].set_title(\"Bankrupt vs Cash/Current Liability\")\n",
    "\n",
    "plt.show()"
   ]
  },
  {
   "source": [
    "### Test Train Split"
   ],
   "cell_type": "markdown",
   "metadata": {}
  },
  {
   "cell_type": "code",
   "execution_count": 19,
   "metadata": {},
   "outputs": [],
   "source": [
    "test_ratio = 0.1\n",
    "#Smote\n",
    "train_sm, test_sm = fcn.test_train_split(smote_data, test_ratio )\n",
    "X_train_sm = train_sm.drop([\"Bankrupt?\"], axis=1)\n",
    "Y_train_sm = train_sm[\"Bankrupt?\"]\n",
    "X_test_sm = test_sm.drop([\"Bankrupt?\"], axis=1)\n",
    "Y_test_sm = test_sm[\"Bankrupt?\"]\n",
    "#No Smote\n",
    "train, test = fcn.test_train_split(clean_data, test_ratio )\n",
    "X_train = train.drop([\"Bankrupt?\"], axis=1)\n",
    "Y_train = train[\"Bankrupt?\"]\n",
    "X_test = test.drop([\"Bankrupt?\"], axis=1)\n",
    "Y_test = test[\"Bankrupt?\"]\n"
   ]
  },
  {
   "source": [
    "### k-Nearest Neighbors Classifier (with and without SMOTE)"
   ],
   "cell_type": "markdown",
   "metadata": {}
  },
  {
   "cell_type": "code",
   "execution_count": 9,
   "metadata": {},
   "outputs": [],
   "source": [
    "knn_classifier = kNN.k_NN_classifier(X_train.to_numpy(), Y_train.to_numpy() )\n",
    "Y_test_pd = Y_test.to_numpy()\n",
    "X_test_pd = X_test.to_numpy()\n",
    "knn_preds = np.zeros_like(Y_test_pd)\n",
    "for idx, test in enumerate(X_test_pd):\n",
    "    knn_preds[idx] = knn_classifier.classify(test)\n",
    "\n",
    "knn_classifier_sm = kNN.k_NN_classifier(X_train_sm.to_numpy(), Y_train_sm.to_numpy() )\n",
    "Y_test_sm_pd = Y_test_sm.to_numpy()\n",
    "X_test_sm_pd = X_test_sm.to_numpy()\n",
    "knn_sm_preds = np.zeros_like(Y_test_sm_pd)\n",
    "for idx, test in enumerate(X_test_sm_pd):\n",
    "    knn_sm_preds[idx] = knn_classifier_sm.classify(test)\n"
   ]
  },
  {
   "cell_type": "code",
   "execution_count": 12,
   "metadata": {},
   "outputs": [
    {
     "output_type": "stream",
     "name": "stdout",
     "text": [
      "Confusion Matrix Without SMOTE\n \t1\t0 (prediction)\n1\t0\t24\n0\t1\t602\nRecall: 0.0\nPrecision: 0.0\n\nConfusion Matrix With SMOTE\n \t1\t0 (prediction)\n1\t525\t40\n0\t131\t466\nRecall: 80.03048780487805\nPrecision: 92.92035398230088\n"
     ]
    }
   ],
   "source": [
    "print(\"Confusion Matrix Without SMOTE\")\n",
    "conf_matrix = fcn.confusion_matrix(Y_test_pd, knn_preds, ret = True)\n",
    "\n",
    "print(\"Recall:\", conf_matrix[0,0]/(conf_matrix[0,0]+conf_matrix[1,0]) * 100 )\n",
    "print(\"Precision:\", conf_matrix[0,0]/(conf_matrix[0,0]+conf_matrix[0,1]) * 100 )\n",
    "print()\n",
    "print(\"Confusion Matrix With SMOTE\")\n",
    "conf_matrix_sm = fcn.confusion_matrix(Y_test_sm_pd, knn_sm_preds, ret = True)\n",
    "print(\"Recall:\", conf_matrix_sm[0,0]/(conf_matrix_sm[0,0]+conf_matrix_sm[1,0]) * 100 )\n",
    "print(\"Precision:\", conf_matrix_sm[0,0]/(conf_matrix_sm[0,0]+conf_matrix_sm[0,1]) *100 )"
   ]
  }
 ]
}