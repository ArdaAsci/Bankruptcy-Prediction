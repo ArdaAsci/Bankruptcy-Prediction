{
 "metadata": {
  "language_info": {
   "codemirror_mode": {
    "name": "ipython",
    "version": 3
   },
   "file_extension": ".py",
   "mimetype": "text/x-python",
   "name": "python",
   "nbconvert_exporter": "python",
   "pygments_lexer": "ipython3",
   "version": "3.7.4"
  },
  "orig_nbformat": 2,
  "kernelspec": {
   "name": "python374jvsc74a57bd08e61c9422603e3d3820d3aeca1b8eefe471d1a1023a28a3903412dc32402bf43",
   "display_name": "Python 3.7.4 32-bit"
  },
  "metadata": {
   "interpreter": {
    "hash": "8e61c9422603e3d3820d3aeca1b8eefe471d1a1023a28a3903412dc32402bf43"
   }
  }
 },
 "nbformat": 4,
 "nbformat_minor": 2,
 "cells": [
  {
   "source": [
    "## Aşcı Test Ortamı"
   ],
   "cell_type": "markdown",
   "metadata": {}
  },
  {
   "cell_type": "code",
   "execution_count": 26,
   "metadata": {},
   "outputs": [],
   "source": [
    "import numpy as np\n",
    "import numpy.linalg as LA\n",
    "import sklearn\n",
    "from sklearn.neighbors import NearestNeighbors\n",
    "import matplotlib.pyplot as plt\n",
    "import seaborn as sns\n",
    "import pandas as pd\n",
    "import random"
   ]
  },
  {
   "cell_type": "code",
   "execution_count": 41,
   "metadata": {},
   "outputs": [],
   "source": [
    "class Smote(object):\n",
    "\n",
    "    def __init__(self, minority_samples):\n",
    "        self.samples = minority_samples\n",
    "        pass\n",
    "\n",
    "    def oversample(self, N: int = 500, k: int = 5):\n",
    "        N = N//100\n",
    "        numsamples, numattrs = self.samples.shape\n",
    "        synthetic = np.zeros( (N*numsamples, numattrs))\n",
    "        \n",
    "        matrix=[]\n",
    "        indices = k_NN(self.samples)\n",
    "        newindex = 0\n",
    "        for i in range(numsamples):\n",
    "           while N > 0:\n",
    "               nn = random.randint(0, k)\n",
    "               for attr in range(numattrs):\n",
    "                   dif = self.samples[indices[i, nn], attr] -self.samples[i, attr]\n",
    "                   gap = random.uniform(0,1)\n",
    "                   synthetic[newindex,attr] = self.samples[i, attr] + gap*dif\n",
    "               newindex += 1\n",
    "               N -= 1\n",
    "        return synthetic\n",
    "        #for m in range(len(indices)):\n",
    "        #    t=self.samples[indices[m]]\n",
    "        #    newt=pd.DataFrame(t)\n",
    "        #    matrix.append([])\n",
    "        #    for j in range(len(newt.columns)):\n",
    "        #        matrix[m].append(random.choice(newt[j]))\n",
    "        return matrix\n",
    "\n",
    "def k_NN(X: np.ndarray, k: int = 5):\n",
    "    indices_matrix = np.zeros((X.shape[0], k))\n",
    "    for idx, row in enumerate(X):\n",
    "        dist = LA.norm(X-row, axis=1)\n",
    "        indices = np.argsort(dist)[:k]\n",
    "        indices_matrix[idx,:] = indices \n",
    "    return indices_matrix.astype(int)  \n",
    "\n",
    "def nearest_neighbour(X, k=2):\n",
    "  nbs=NearestNeighbors(n_neighbors=k, metric='euclidean', algorithm='kd_tree').fit(X)\n",
    "  euclidean,indices= nbs.kneighbors(X)\n",
    "  return indices\n",
    "\n"
   ]
  },
  {
   "cell_type": "code",
   "execution_count": 4,
   "metadata": {},
   "outputs": [],
   "source": [
    "raw_data = pd.read_csv(\"data.csv\")\n",
    "bankrupt_pd = raw_data[\"Bankrupt?\"]\n",
    "features_pd = raw_data.drop([\"Bankrupt?\"], axis=1)\n",
    "bankrupt = bankrupt_pd.to_numpy()"
   ]
  },
  {
   "cell_type": "code",
   "execution_count": 16,
   "metadata": {},
   "outputs": [],
   "source": []
  },
  {
   "cell_type": "code",
   "execution_count": 5,
   "metadata": {},
   "outputs": [
    {
     "output_type": "stream",
     "name": "stdout",
     "text": [
      "[6 0 2 1 5 3 4]\n"
     ]
    },
    {
     "output_type": "execute_result",
     "data": {
      "text/plain": [
       "array([5, 3, 4], dtype=int32)"
      ]
     },
     "metadata": {},
     "execution_count": 5
    }
   ],
   "source": [
    "asd = np.array([[5, 5, 5], [10, 10, 10], [1, 2, 3]])\n",
    "asd2 = asd - np.array([1, 2, 3])\n",
    "asd3 = np.array([1, 3, 2, 5, 8, 4, 0])\n",
    "print(np.argsort(asd3))\n",
    "np.argsort(asd3)[-3:]"
   ]
  },
  {
   "cell_type": "code",
   "execution_count": 42,
   "metadata": {},
   "outputs": [],
   "source": [
    "df = pd.DataFrame(np.arange(12).reshape(3, 4),\n",
    "                  columns=['A', 'B', 'C', 'D'])\n",
    "minority = features_pd[bankrupt_pd == 1]\n",
    "smote = Smote( minority.to_numpy() )\n",
    "oversamples = smote.oversample()\n"
   ]
  },
  {
   "cell_type": "code",
   "execution_count": 43,
   "metadata": {},
   "outputs": [
    {
     "output_type": "execute_result",
     "data": {
      "text/plain": [
       "(1100, 95)"
      ]
     },
     "metadata": {},
     "execution_count": 43
    }
   ],
   "source": [
    "oversamples.shape"
   ]
  }
 ]
}